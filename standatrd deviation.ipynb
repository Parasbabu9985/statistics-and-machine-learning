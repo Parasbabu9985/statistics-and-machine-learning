{
 "cells": [
  {
   "cell_type": "code",
   "execution_count": 33,
   "id": "df8dab4b-4e8b-4ff6-9354-dd70467ae4c9",
   "metadata": {},
   "outputs": [],
   "source": [
    "import numpy as np\n",
    "import pandas as pd\n",
    "import matplotlib.pyplot as plt\n",
    "import seaborn as sns"
   ]
  },
  {
   "cell_type": "code",
   "execution_count": 34,
   "id": "971a99b3-2c6a-4ec5-b80a-bd02b7d6043d",
   "metadata": {},
   "outputs": [],
   "source": [
    "sec_a=np.array([75,65,73,68,72,67])\n",
    "sec_b=np.array([90,47,43,96,93,51])"
   ]
  },
  {
   "cell_type": "code",
   "execution_count": 36,
   "id": "a759e921-2f72-4239-b3a5-0755d52dee1c",
   "metadata": {},
   "outputs": [
    {
     "data": {
      "text/plain": [
       "(np.float64(3.559026084010437), np.float64(23.18045153428495))"
      ]
     },
     "execution_count": 36,
     "metadata": {},
     "output_type": "execute_result"
    }
   ],
   "source": [
    "np.std(sec_a) ,np.std(sec_b)"
   ]
  },
  {
   "cell_type": "code",
   "execution_count": 37,
   "id": "09d82dd7-adf2-4bd1-988d-2997dcd17f26",
   "metadata": {},
   "outputs": [
    {
     "data": {
      "text/plain": [
       "(np.float64(12.666666666666666), np.float64(537.3333333333334))"
      ]
     },
     "execution_count": 37,
     "metadata": {},
     "output_type": "execute_result"
    }
   ],
   "source": [
    "np.var(sec_a),np.var(sec_b)"
   ]
  },
  {
   "cell_type": "code",
   "execution_count": null,
   "id": "af22cd40-a247-4668-8b14-bf258fabcf39",
   "metadata": {},
   "outputs": [],
   "source": [
    "+"
   ]
  }
 ],
 "metadata": {
  "kernelspec": {
   "display_name": "Python 3 (ipykernel)",
   "language": "python",
   "name": "python3"
  },
  "language_info": {
   "codemirror_mode": {
    "name": "ipython",
    "version": 3
   },
   "file_extension": ".py",
   "mimetype": "text/x-python",
   "name": "python",
   "nbconvert_exporter": "python",
   "pygments_lexer": "ipython3",
   "version": "3.13.5"
  }
 },
 "nbformat": 4,
 "nbformat_minor": 5
}
