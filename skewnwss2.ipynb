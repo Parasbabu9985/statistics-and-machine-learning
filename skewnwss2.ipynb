{
 "cells": [
  {
   "cell_type": "code",
   "execution_count": 57,
   "id": "764e5957-c868-478f-a489-a191af1f4169",
   "metadata": {},
   "outputs": [],
   "source": [
    "import pandas as pd\n",
    "import numpy as np\n",
    "import matplotlib.pyplot as plt\n",
    "import seaborn as sns"
   ]
  },
  {
   "cell_type": "code",
   "execution_count": 58,
   "id": "b0511eac-b97c-4bbe-a852-5f2194380e8c",
   "metadata": {},
   "outputs": [],
   "source": [
    "data=np.random.normal(0,100,100)"
   ]
  },
  {
   "cell_type": "code",
   "execution_count": 59,
   "id": "a458b902-82ff-4fd2-b1d0-836c6607c3e9",
   "metadata": {},
   "outputs": [
    {
     "data": {
      "text/plain": [
       "np.float64(-0.3380454942659714)"
      ]
     },
     "execution_count": 59,
     "metadata": {},
     "output_type": "execute_result"
    }
   ],
   "source": [
    "df = pd.DataFrame({\"x\": data})\n",
    "df[\"x\"].skew()\n",
    "\n"
   ]
  },
  {
   "cell_type": "code",
   "execution_count": 61,
   "id": "dfcdf3dd-7b96-4a02-a2f5-abb5a6462596",
   "metadata": {},
   "outputs": [
    {
     "data": {
      "image/png": "[encoded data removed]",
      "text/plain": [
       "<Figure size 640x480 with 1 Axes>"
      ]
     },
     "metadata": {},
     "output_type": "display_data"
    }
   ],
   "source": [
    "sns.histplot(x=\"x\",data=df)\n",
    "plt.show()"
   ]
  },
  {
   "cell_type": "code",
   "execution_count": 64,
   "id": "73a523fe-c38a-4d9b-82a3-4264dc8dfa21",
   "metadata": {},
   "outputs": [
    {
     "data": {
      "text/plain": [
       "(np.float64(-28.999985794495206),\n",
       " np.float64(-16.302074733583606),\n",
       " 0    -302.525176\n",
       " 1    -258.825612\n",
       " 2    -217.506214\n",
       " 3    -211.522616\n",
       " 4    -210.195592\n",
       "          ...    \n",
       " 95    107.709963\n",
       " 96    143.538941\n",
       " 97    157.243716\n",
       " 98    170.284859\n",
       " 99    207.886497\n",
       " Name: x, Length: 100, dtype: float64)"
      ]
     },
     "execution_count": 64,
     "metadata": {},
     "output_type": "execute_result"
    }
   ],
   "source": [
    "df[\"x\"].mean(),df[\"x\"].median(),df[\"x\"].mode()"
   ]
  },
  {
   "cell_type": "code",
   "execution_count": null,
   "id": "b18250bb-32e3-4fe0-a3b3-0ca68c8347bb",
   "metadata": {},
   "outputs": [],
   "source": []
  }
 ],
 "metadata": {
  "kernelspec": {
   "display_name": "Python 3 (ipykernel)",
   "language": "python",
   "name": "python3"
  },
  "language_info": {
   "codemirror_mode": {
    "name": "ipython",
    "version": 3
   },
   "file_extension": ".py",
   "mimetype": "text/x-python",
   "name": "python",
   "nbconvert_exporter": "python",
   "pygments_lexer": "ipython3",
   "version": "3.13.5"
  }
 },
 "nbformat": 4,
 "nbformat_minor": 5
}
