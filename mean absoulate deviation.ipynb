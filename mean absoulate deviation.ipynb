{
 "cells": [
  {
   "cell_type": "code",
   "execution_count": 13,
   "id": "f8b78a20-2f15-40ea-a759-8bb5b2a6ff6a",
   "metadata": {},
   "outputs": [],
   "source": [
    "import numpy as np\n",
    "import pandas as pd\n",
    "import matplotlib.pyplot as plt\n",
    "import seaborn as sns"
   ]
  },
  {
   "cell_type": "code",
   "execution_count": 15,
   "id": "dbed74d3-6de5-4af9-a4fc-1f3827b209bd",
   "metadata": {},
   "outputs": [],
   "source": [
    "sec_a=np.array([75,65,73,68,72,67])\n",
    "sec_b=np.array([90,47,43,96,93,51])"
   ]
  },
  {
   "cell_type": "code",
   "execution_count": 17,
   "id": "10ce77cb-b3d2-4248-9b8c-4dc94ac7edd2",
   "metadata": {},
   "outputs": [
    {
     "data": {
      "text/plain": [
       "np.float64(70.0)"
      ]
     },
     "execution_count": 17,
     "metadata": {},
     "output_type": "execute_result"
    }
   ],
   "source": [
    "mean=np.mean(sec_b)\n",
    "mean"
   ]
  },
  {
   "cell_type": "code",
   "execution_count": 24,
   "id": "1bf58fb7-3986-49f9-be9d-ba4457ea65e9",
   "metadata": {},
   "outputs": [
    {
     "data": {
      "text/plain": [
       "array([20., 23., 27., 26., 23., 19.])"
      ]
     },
     "execution_count": 24,
     "metadata": {},
     "output_type": "execute_result"
    }
   ],
   "source": [
    "mad=np.abs(sec_b-mean)\n",
    "mad"
   ]
  },
  {
   "cell_type": "code",
   "execution_count": 25,
   "id": "bdd6658d-c17e-4617-93df-a60bca120fb7",
   "metadata": {},
   "outputs": [
    {
     "data": {
      "text/plain": [
       "6"
      ]
     },
     "execution_count": 25,
     "metadata": {},
     "output_type": "execute_result"
    }
   ],
   "source": [
    "n=len(sec_b)\n",
    "n"
   ]
  },
  {
   "cell_type": "code",
   "execution_count": 28,
   "id": "36b77931-61e3-4cf0-9c5b-fad76be44470",
   "metadata": {},
   "outputs": [
    {
     "data": {
      "text/plain": [
       "np.float64(23.0)"
      ]
     },
     "execution_count": 28,
     "metadata": {},
     "output_type": "execute_result"
    }
   ],
   "source": [
    "np.sum(np.abs(sec_b-mean)/n)"
   ]
  },
  {
   "cell_type": "code",
   "execution_count": 30,
   "id": "68177a69-9110-48c0-87dc-69975ae8a6bb",
   "metadata": {},
   "outputs": [
    {
     "data": {
      "text/plain": [
       "np.float64(70.0)"
      ]
     },
     "execution_count": 30,
     "metadata": {},
     "output_type": "execute_result"
    }
   ],
   "source": [
    "np.mean(sec_a)"
   ]
  },
  {
   "cell_type": "code",
   "execution_count": 31,
   "id": "5de087f8-d661-4999-8f8e-f65472cc9fef",
   "metadata": {},
   "outputs": [
    {
     "data": {
      "text/plain": [
       "array([5., 5., 3., 2., 2., 3.])"
      ]
     },
     "execution_count": 31,
     "metadata": {},
     "output_type": "execute_result"
    }
   ],
   "source": [
    "mad=np.abs(sec_a-mean)\n",
    "mad"
   ]
  },
  {
   "cell_type": "code",
   "execution_count": null,
   "id": "efbab8d2-6e1f-44a9-8c1f-c14c0e8a14e8",
   "metadata": {},
   "outputs": [],
   "source": [
    "np.sum(abs(sec_a-mean)/len(sec_a))"
   ]
  },
  {
   "cell_type": "code",
   "execution_count": null,
   "id": "066209b0-0fb5-4e1b-bbde-8ddee03b74fb",
   "metadata": {},
   "outputs": [],
   "source": []
  }
 ],
 "metadata": {
  "kernelspec": {
   "display_name": "Python 3 (ipykernel)",
   "language": "python",
   "name": "python3"
  },
  "language_info": {
   "codemirror_mode": {
    "name": "ipython",
    "version": 3
   },
   "file_extension": ".py",
   "mimetype": "text/x-python",
   "name": "python",
   "nbconvert_exporter": "python",
   "pygments_lexer": "ipython3",
   "version": "3.13.5"
  }
 },
 "nbformat": 4,
 "nbformat_minor": 5
}
