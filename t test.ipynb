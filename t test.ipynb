{
 "cells": [
  {
   "cell_type": "code",
   "execution_count": 3,
   "id": "9af245b9-d330-4e2e-a76b-a4b22c8c8b8d",
   "metadata": {},
   "outputs": [
    {
     "data": {
      "text/plain": [
       "np.float64(-1.7108820799094282)"
      ]
     },
     "execution_count": 3,
     "metadata": {},
     "output_type": "execute_result"
    }
   ],
   "source": [
    "import scipy.stats as st\n",
    "import numpy as np\n",
    "t_table=st.t.ppf(0.05,24)\n",
    "t_table\n"
   ]
  },
  {
   "cell_type": "code",
   "execution_count": 4,
   "id": "be9aa2a4-3f89-4fdc-94b4-a13dbb939520",
   "metadata": {},
   "outputs": [],
   "source": [
    "pop_std = 150\n",
    "n_sp = 25\n",
    "apl = 0.05\n",
    "sd=5\n",
    "s_m=148\n"
   ]
  },
  {
   "cell_type": "code",
   "execution_count": 7,
   "id": "2d284096-7e1f-47a4-b285-80edb6ddb947",
   "metadata": {},
   "outputs": [
    {
     "data": {
      "text/plain": [
       "np.float64(-2.0)"
      ]
     },
     "execution_count": 7,
     "metadata": {},
     "output_type": "execute_result"
    }
   ],
   "source": [
    "t_cal=(s_m-pop_std)/(sd/np.sqrt(n_sp))\n",
    "t_cal"
   ]
  },
  {
   "cell_type": "code",
   "execution_count": 10,
   "id": "80070cca-3438-4a3c-966c-261d6319cc04",
   "metadata": {},
   "outputs": [
    {
     "name": "stdout",
     "output_type": "stream",
     "text": [
      "ho is right\n"
     ]
    }
   ],
   "source": [
    "if t_table < t_cal :\n",
    "    print(\"ha is right\")\n",
    "else:\n",
    "     print(\"ho is right\")"
   ]
  },
  {
   "cell_type": "code",
   "execution_count": null,
   "id": "4a91bf4f-7d31-4d9c-a0e1-a69fea7d926d",
   "metadata": {},
   "outputs": [],
   "source": []
  }
 ],
 "metadata": {
  "kernelspec": {
   "display_name": "Python 3 (ipykernel)",
   "language": "python",
   "name": "python3"
  },
  "language_info": {
   "codemirror_mode": {
    "name": "ipython",
    "version": 3
   },
   "file_extension": ".py",
   "mimetype": "text/x-python",
   "name": "python",
   "nbconvert_exporter": "python",
   "pygments_lexer": "ipython3",
   "version": "3.13.5"
  }
 },
 "nbformat": 4,
 "nbformat_minor": 5
}
