{
 "cells": [
  {
   "cell_type": "code",
   "execution_count": 1,
   "id": "e8dbed2a-bdbb-4f06-91b7-4d30e664379c",
   "metadata": {},
   "outputs": [],
   "source": [
    "import numpy as np\n",
    "import pandas as pd\n",
    "import matplotlib.pyplot as plt\n",
    "import seaborn as sns"
   ]
  },
  {
   "cell_type": "code",
   "execution_count": 10,
   "id": "f791d9b1-65ac-4ada-8791-52c1ab7c85a4",
   "metadata": {},
   "outputs": [
    {
     "name": "stdout",
     "output_type": "stream",
     "text": [
      "   tv  radi0  newspaper    name  age\n",
      "0   1     89         52     don   25\n",
      "1  25     56        366   rohan   36\n",
      "2  28     85         24  dalall   45\n"
     ]
    }
   ],
   "source": [
    "\n",
    "file_path = r\"C:\\Users\\Paras\\OneDrive\\Desktop\\my sql query\\book 1\\Book1.csv\"\n",
    "dataset = pd.read_csv(file_path)\n",
    "\n",
    "\n",
    "print(dataset.head(3))\n",
    "\n"
   ]
  },
  {
   "cell_type": "code",
   "execution_count": 18,
   "id": "be0c8489-d808-4fb5-aa81-ee5c2d347134",
   "metadata": {},
   "outputs": [],
   "source": [
    " md = np.median(dataset[\"age\"])"
   ]
  },
  {
   "cell_type": "code",
   "execution_count": 19,
   "id": "feb006f8-4611-4d39-b2d7-4d8d79c205ca",
   "metadata": {},
   "outputs": [
    {
     "data": {
      "text/plain": [
       "np.float64(30.5)"
      ]
     },
     "execution_count": 19,
     "metadata": {},
     "output_type": "execute_result"
    }
   ],
   "source": [
    "dataset[\"age\"].median()"
   ]
  },
  {
   "cell_type": "code",
   "execution_count": 23,
   "id": "a681d114-cbee-47c7-bd4e-b5aa7cbc66c6",
   "metadata": {},
   "outputs": [
    {
     "data": {
      "image/png": "[encoded data removed]",
      "text/plain": [
       "<Figure size 640x480 with 1 Axes>"
      ]
     },
     "metadata": {},
     "output_type": "display_data"
    }
   ],
   "source": [
    "sns.histplot(x=\"age\",data=dataset)\n",
    "plt.plot([md for i in range(0,100)],[i for i in range (0,100)],c=\"green\")\n",
    "plt.show()"
   ]
  },
  {
   "cell_type": "code",
   "execution_count": 28,
   "id": "50b3a3c3-ae0b-484a-a252-b6dd0e4add2a",
   "metadata": {},
   "outputs": [
    {
     "name": "stdout",
     "output_type": "stream",
     "text": [
      "Median: 30.5\n"
     ]
    }
   ],
   "source": [
    "\n",
    "\n",
    "\n",
    "sorted_age = np.sort(dataset[\"age\"])\n",
    "\n",
    "\n",
    "n = len(sorted_age)\n",
    "\n",
    "if n % 2 == 1:\n",
    "    median = sorted_age[n // 2]\n",
    "else:\n",
    "    mid1 = sorted_age[n // 2 -1]\n",
    "    mid2 = sorted_age[n // 2]\n",
    "    median = (mid1 + mid2) / 2\n",
    "\n",
    "print(\"Median:\", median)\n"
   ]
  },
  {
   "cell_type": "code",
   "execution_count": null,
   "id": "1d34e2b2-db19-4fe7-8bd8-2ed03eec5353",
   "metadata": {},
   "outputs": [],
   "source": []
  }
 ],
 "metadata": {
  "kernelspec": {
   "display_name": "Python 3 (ipykernel)",
   "language": "python",
   "name": "python3"
  },
  "language_info": {
   "codemirror_mode": {
    "name": "ipython",
    "version": 3
   },
   "file_extension": ".py",
   "mimetype": "text/x-python",
   "name": "python",
   "nbconvert_exporter": "python",
   "pygments_lexer": "ipython3",
   "version": "3.13.5"
  }
 },
 "nbformat": 4,
 "nbformat_minor": 5
}
