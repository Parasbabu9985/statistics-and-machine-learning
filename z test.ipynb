{
 "cells": [
  {
   "cell_type": "code",
   "execution_count": 5,
   "id": "87ef2412-d45a-48e9-a046-af3299f1da2b",
   "metadata": {},
   "outputs": [],
   "source": [
    "import scipy.stats as st\n",
    "import numpy as np"
   ]
  },
  {
   "cell_type": "code",
   "execution_count": 6,
   "id": "3ab799c2-24a1-4695-9ed2-b3ddca4ebdb7",
   "metadata": {},
   "outputs": [],
   "source": [
    "sample_mean=90\n",
    "pop_mean=82\n",
    "pop_sd=20\n",
    "sample_no=81\n",
    "alfa=0.05"
   ]
  },
  {
   "cell_type": "code",
   "execution_count": 7,
   "id": "c93db970-e4f9-41c7-a265-52f097c55c4d",
   "metadata": {},
   "outputs": [
    {
     "data": {
      "text/plain": [
       "np.float64(3.5999999999999996)"
      ]
     },
     "execution_count": 7,
     "metadata": {},
     "output_type": "execute_result"
    }
   ],
   "source": [
    "z_cal=(sample_mean-pop_mean)/(pop_sd/np.sqrt(sample_no))\n",
    "z_cal"
   ]
  },
  {
   "cell_type": "code",
   "execution_count": 8,
   "id": "ab10cc40-e72d-44dc-8332-a77813b65bb9",
   "metadata": {},
   "outputs": [
    {
     "data": {
      "text/plain": [
       "np.float64(1.6448536269514722)"
      ]
     },
     "execution_count": 8,
     "metadata": {},
     "output_type": "execute_result"
    }
   ],
   "source": [
    "z_table=st.norm.ppf(1-alfa)\n",
    "z_table"
   ]
  },
  {
   "cell_type": "code",
   "execution_count": 9,
   "id": "7ed36f9f-c35d-4a51-8901-c5f6b4dc617e",
   "metadata": {},
   "outputs": [
    {
     "name": "stdout",
     "output_type": "stream",
     "text": [
      "ha is right\n"
     ]
    }
   ],
   "source": [
    "if z_table < z_cal :\n",
    "    print(\"ha is right\")\n",
    "else:\n",
    "     print(\"ho is right\")"
   ]
  },
  {
   "cell_type": "code",
   "execution_count": null,
   "id": "f70ece22-706f-42f1-b14d-c33e51bdc35b",
   "metadata": {},
   "outputs": [],
   "source": []
  }
 ],
 "metadata": {
  "kernelspec": {
   "display_name": "Python 3 (ipykernel)",
   "language": "python",
   "name": "python3"
  },
  "language_info": {
   "codemirror_mode": {
    "name": "ipython",
    "version": 3
   },
   "file_extension": ".py",
   "mimetype": "text/x-python",
   "name": "python",
   "nbconvert_exporter": "python",
   "pygments_lexer": "ipython3",
   "version": "3.13.5"
  }
 },
 "nbformat": 4,
 "nbformat_minor": 5
}
