{
 "cells": [
  {
   "cell_type": "code",
   "execution_count": 19,
   "id": "01a4d7ee-00ae-4a0a-9c63-41d6e02633a1",
   "metadata": {},
   "outputs": [
    {
     "data": {
      "text/plain": [
       "np.float64(16.475494529755387)"
      ]
     },
     "execution_count": 19,
     "metadata": {},
     "output_type": "execute_result"
    }
   ],
   "source": [
    "import scipy.stats as st\n",
    "import numpy as np\n",
    "\n",
    "Old_design_data = np.array([\n",
    "    45.2, 42.8, 38.9, 43.5, 41.0, 44.6, 40.5, 42.7, 39.8, 41.4,\n",
    "    44.3, 39.7, 42.1, 40.6, 43.0, 42.2, 41.5, 39.6, 44.0, 43.1,\n",
    "    38.7, 41.3, 42.0, 39.0, 43.7, 40.4, 42.6, 38.5, 41.2, 43.6\n",
    "])\n",
    "\n",
    "New_design_data = np.array([\n",
    "    48.5, 49.1, 50.2, 47.8, 48.7, 49.9, 48.0, 50.5, 49.8, 49.6,\n",
    "    48.2, 48.9, 49.7, 50.3, 49.4, 50.1, 48.6, 48.3, 49.0, 50.0,\n",
    "    48.4, 49.2, 47.9, 50.4, 49.5, 50.2, 48.8, 48.7, 49.1, 50.3\n",
    "])\n",
    "\n",
    "pop_std = 2.5\n",
    "n_sp = 30\n",
    "apl = 0.05\n",
    "\n",
    "mean_new = np.mean(New_design_data)\n",
    "mean_old = np.mean(Old_design_data)\n",
    "\n",
    "z_cal = (mean_new - mean_old) / (pop_std / np.sqrt(n_sp))\n",
    "z_cal\n"
   ]
  },
  {
   "cell_type": "code",
   "execution_count": 21,
   "id": "6bd6899c-b307-4c2c-a456-ed032d8bb9da",
   "metadata": {},
   "outputs": [
    {
     "data": {
      "text/plain": [
       "np.float64(1.6448536269514722)"
      ]
     },
     "execution_count": 21,
     "metadata": {},
     "output_type": "execute_result"
    }
   ],
   "source": [
    "z_table=st.norm.ppf(1-apl)\n",
    "z_table"
   ]
  },
  {
   "cell_type": "code",
   "execution_count": 22,
   "id": "22af4bc6-bba4-4fbd-85e0-dad9c9d425bb",
   "metadata": {},
   "outputs": [
    {
     "name": "stdout",
     "output_type": "stream",
     "text": [
      "ha is right\n"
     ]
    }
   ],
   "source": [
    "if z_table < z_cal :\n",
    "    print(\"ha is right\")\n",
    "else:\n",
    "     print(\"ho is right\")"
   ]
  },
  {
   "cell_type": "code",
   "execution_count": null,
   "id": "d8cf1938-66ac-43b1-9645-114617de6bfa",
   "metadata": {},
   "outputs": [],
   "source": [
    "\n",
    "\n",
    "\n"
   ]
  }
 ],
 "metadata": {
  "kernelspec": {
   "display_name": "Python 3 (ipykernel)",
   "language": "python",
   "name": "python3"
  },
  "language_info": {
   "codemirror_mode": {
    "name": "ipython",
    "version": 3
   },
   "file_extension": ".py",
   "mimetype": "text/x-python",
   "name": "python",
   "nbconvert_exporter": "python",
   "pygments_lexer": "ipython3",
   "version": "3.13.5"
  }
 },
 "nbformat": 4,
 "nbformat_minor": 5
}
