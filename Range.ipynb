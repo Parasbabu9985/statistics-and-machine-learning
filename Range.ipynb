{
 "cells": [
  {
   "cell_type": "code",
   "execution_count": 1,
   "id": "729c9280-05f1-4964-996b-4a5b961e9d1d",
   "metadata": {},
   "outputs": [],
   "source": [
    "import numpy as np\n",
    "import pandas as pd\n",
    "import matplotlib.pyplot as plt\n",
    "import seaborn as sns"
   ]
  },
  {
   "cell_type": "code",
   "execution_count": 2,
   "id": "2896dfee-665d-4203-a279-c9675b38f5b2",
   "metadata": {},
   "outputs": [],
   "source": [
    "file_path = r\"C:\\Users\\Paras\\OneDrive\\Desktop\\my sql query\\book 1\\Book1.csv\"\n",
    "dataset = pd.read_csv(file_path)\n"
   ]
  },
  {
   "cell_type": "code",
   "execution_count": 4,
   "id": "11f05c69-37c4-412e-adfe-8829b9e48748",
   "metadata": {},
   "outputs": [
    {
     "data": {
      "text/html": [
       "<div>\n",
       "<style scoped>\n",
       "    .dataframe tbody tr th:only-of-type {\n",
       "        vertical-align: middle;\n",
       "    }\n",
       "\n",
       "    .dataframe tbody tr th {\n",
       "        vertical-align: top;\n",
       "    }\n",
       "\n",
       "    .dataframe thead th {\n",
       "        text-align: right;\n",
       "    }\n",
       "</style>\n",
       "<table border=\"1\" class=\"dataframe\">\n",
       "  <thead>\n",
       "    <tr style=\"text-align: right;\">\n",
       "      <th></th>\n",
       "      <th>tv</th>\n",
       "      <th>radi0</th>\n",
       "      <th>newspaper</th>\n",
       "      <th>name</th>\n",
       "      <th>age</th>\n",
       "    </tr>\n",
       "  </thead>\n",
       "  <tbody>\n",
       "    <tr>\n",
       "      <th>0</th>\n",
       "      <td>1</td>\n",
       "      <td>89</td>\n",
       "      <td>52</td>\n",
       "      <td>don</td>\n",
       "      <td>25</td>\n",
       "    </tr>\n",
       "    <tr>\n",
       "      <th>1</th>\n",
       "      <td>25</td>\n",
       "      <td>56</td>\n",
       "      <td>366</td>\n",
       "      <td>rohan</td>\n",
       "      <td>36</td>\n",
       "    </tr>\n",
       "    <tr>\n",
       "      <th>2</th>\n",
       "      <td>28</td>\n",
       "      <td>85</td>\n",
       "      <td>24</td>\n",
       "      <td>dalall</td>\n",
       "      <td>45</td>\n",
       "    </tr>\n",
       "    <tr>\n",
       "      <th>3</th>\n",
       "      <td>47</td>\n",
       "      <td>65</td>\n",
       "      <td>32</td>\n",
       "      <td>kalmilenge</td>\n",
       "      <td>12</td>\n",
       "    </tr>\n",
       "  </tbody>\n",
       "</table>\n",
       "</div>"
      ],
      "text/plain": [
       "   tv  radi0  newspaper        name  age\n",
       "0   1     89         52         don   25\n",
       "1  25     56        366       rohan   36\n",
       "2  28     85         24      dalall   45\n",
       "3  47     65         32  kalmilenge   12"
      ]
     },
     "execution_count": 4,
     "metadata": {},
     "output_type": "execute_result"
    }
   ],
   "source": [
    "dataset.head()"
   ]
  },
  {
   "cell_type": "code",
   "execution_count": 8,
   "id": "9af7fc38-b1b9-457e-be7d-e7ee6c1a07ae",
   "metadata": {},
   "outputs": [],
   "source": [
    "min_r=dataset[\"age\"].min()\n"
   ]
  },
  {
   "cell_type": "code",
   "execution_count": 9,
   "id": "38cdd4cc-2a4f-43cb-aa26-4a5e8d14dc0f",
   "metadata": {},
   "outputs": [],
   "source": [
    "max_r=dataset[\"age\"].max()"
   ]
  },
  {
   "cell_type": "code",
   "execution_count": 12,
   "id": "29d26bc6-11ee-400a-90fe-8db54b6ab0e0",
   "metadata": {},
   "outputs": [
    {
     "data": {
      "text/plain": [
       "np.int64(33)"
      ]
     },
     "execution_count": 12,
     "metadata": {},
     "output_type": "execute_result"
    }
   ],
   "source": [
    "range=max_r-min_r\n",
    "range"
   ]
  },
  {
   "cell_type": "code",
   "execution_count": null,
   "id": "337f36fc-d295-4865-bcd5-56a009c35a96",
   "metadata": {},
   "outputs": [],
   "source": []
  }
 ],
 "metadata": {
  "kernelspec": {
   "display_name": "Python 3 (ipykernel)",
   "language": "python",
   "name": "python3"
  },
  "language_info": {
   "codemirror_mode": {
    "name": "ipython",
    "version": 3
   },
   "file_extension": ".py",
   "mimetype": "text/x-python",
   "name": "python",
   "nbconvert_exporter": "python",
   "pygments_lexer": "ipython3",
   "version": "3.13.5"
  }
 },
 "nbformat": 4,
 "nbformat_minor": 5
}
